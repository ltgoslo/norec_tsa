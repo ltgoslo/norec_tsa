{
 "cells": [
  {
   "cell_type": "markdown",
   "metadata": {},
   "source": [
    "## Convert the datasets from conll format to HuggingFace DatasetDict "
   ]
  },
  {
   "cell_type": "code",
   "execution_count": 19,
   "metadata": {},
   "outputs": [
    {
     "name": "stdout",
     "output_type": "stream",
     "text": [
      "\n",
      " tsa_conll train 8634\n",
      "{'idx': '701363-07-05', 'tokens': ['Allerede', 'tidlig', 'i', 'filmen', 'gjennomfører', 'Moore', 'et', 'demolition', 'derby', 'gjennom', 'Moskvas', 'gater', 'der', 'Willis', 'på', 'sitt', 'beste', 'overkjører', 'rushtrafikken', 'i', 'sin', 'robuste', 'Mercedes', ',', 'mens', 'bilmerker', 'fra', 'flere', 'verdenshjørner', 'kaster', 'seg', 'rundt', 'i', 'sanseløse', 'turnoppvisninger', 'og', 'blir', 'knust', 'til', 'resirkulasjonsmaterale', 'som', 'tyggegummi-Ladaer', '.'], 'tsa_tags': ['O', 'B-targ-Positive', 'I-targ-Positive', 'I-targ-Positive', 'O', 'O', 'O', 'O', 'O', 'O', 'O', 'O', 'O', 'B-targ-Positive', 'O', 'O', 'O', 'O', 'O', 'O', 'O', 'O', 'O', 'O', 'O', 'O', 'O', 'O', 'O', 'O', 'O', 'O', 'O', 'O', 'O', 'O', 'O', 'O', 'O', 'O', 'O', 'O', 'O']}\n"
     ]
    },
    {
     "data": {
      "application/vnd.jupyter.widget-view+json": {
       "model_id": "f42c801d93e443c1bd5246eca0253681",
       "version_major": 2,
       "version_minor": 0
      },
      "text/plain": [
       "Saving the dataset (0/1 shards):   0%|          | 0/8634 [00:00<?, ? examples/s]"
      ]
     },
     "metadata": {},
     "output_type": "display_data"
    },
    {
     "name": "stdout",
     "output_type": "stream",
     "text": [
      "\n",
      " tsa_conll dev 1531\n",
      "{'idx': '202259-20-04', 'tokens': ['Utvendig', 'har', 'den', 'svært', 'forsiktig', 'styling', '.'], 'tsa_tags': ['B-targ-Negative', 'O', 'O', 'O', 'O', 'O', 'O']}\n"
     ]
    },
    {
     "data": {
      "application/vnd.jupyter.widget-view+json": {
       "model_id": "bfdbf7b703c54fdf8db3358262519b41",
       "version_major": 2,
       "version_minor": 0
      },
      "text/plain": [
       "Saving the dataset (0/1 shards):   0%|          | 0/8634 [00:00<?, ? examples/s]"
      ]
     },
     "metadata": {},
     "output_type": "display_data"
    },
    {
     "data": {
      "application/vnd.jupyter.widget-view+json": {
       "model_id": "ea2b6ae0a0e54f769bb27fc99ee8f6d7",
       "version_major": 2,
       "version_minor": 0
      },
      "text/plain": [
       "Saving the dataset (0/1 shards):   0%|          | 0/1531 [00:00<?, ? examples/s]"
      ]
     },
     "metadata": {},
     "output_type": "display_data"
    },
    {
     "name": "stdout",
     "output_type": "stream",
     "text": [
      "\n",
      " tsa_conll test 1272\n",
      "{'idx': '000298-18-02', 'tokens': ['Det', 'er', 'også', 'interessant', 'å', 'se', 'en', 'serie', 'der', 'kvinnen', 'er', 'den', 'sterkeste', 'parten', 'uten', 'at', 'dette', 'plager', 'mannen', 'nevneverdig', '.'], 'tsa_tags': ['O', 'O', 'O', 'O', 'O', 'O', 'O', 'B-targ-Positive', 'O', 'O', 'O', 'O', 'O', 'O', 'O', 'O', 'O', 'O', 'O', 'O', 'O']}\n"
     ]
    },
    {
     "data": {
      "application/vnd.jupyter.widget-view+json": {
       "model_id": "4de6b4de4acb40d897531d8937dec3bf",
       "version_major": 2,
       "version_minor": 0
      },
      "text/plain": [
       "Saving the dataset (0/1 shards):   0%|          | 0/8634 [00:00<?, ? examples/s]"
      ]
     },
     "metadata": {},
     "output_type": "display_data"
    },
    {
     "data": {
      "application/vnd.jupyter.widget-view+json": {
       "model_id": "66af382e59054396ba23796fd45b6202",
       "version_major": 2,
       "version_minor": 0
      },
      "text/plain": [
       "Saving the dataset (0/1 shards):   0%|          | 0/1531 [00:00<?, ? examples/s]"
      ]
     },
     "metadata": {},
     "output_type": "display_data"
    },
    {
     "data": {
      "application/vnd.jupyter.widget-view+json": {
       "model_id": "6ee182795eb945f4bb2df53716f8e0b1",
       "version_major": 2,
       "version_minor": 0
      },
      "text/plain": [
       "Saving the dataset (0/1 shards):   0%|          | 0/1272 [00:00<?, ? examples/s]"
      ]
     },
     "metadata": {},
     "output_type": "display_data"
    },
    {
     "name": "stdout",
     "output_type": "stream",
     "text": [
      "\n",
      " tsa-conll-intensity train 8634\n",
      "{'idx': '701363-07-05', 'tokens': ['Allerede', 'tidlig', 'i', 'filmen', 'gjennomfører', 'Moore', 'et', 'demolition', 'derby', 'gjennom', 'Moskvas', 'gater', 'der', 'Willis', 'på', 'sitt', 'beste', 'overkjører', 'rushtrafikken', 'i', 'sin', 'robuste', 'Mercedes', ',', 'mens', 'bilmerker', 'fra', 'flere', 'verdenshjørner', 'kaster', 'seg', 'rundt', 'i', 'sanseløse', 'turnoppvisninger', 'og', 'blir', 'knust', 'til', 'resirkulasjonsmaterale', 'som', 'tyggegummi-Ladaer', '.'], 'tsa_tags': ['O', 'B-targ-Positive-3', 'I-targ-Positive-3', 'I-targ-Positive-3', 'O', 'O', 'O', 'O', 'O', 'O', 'O', 'O', 'O', 'B-targ-Positive-2', 'O', 'O', 'O', 'O', 'O', 'O', 'O', 'O', 'O', 'O', 'O', 'O', 'O', 'O', 'O', 'O', 'O', 'O', 'O', 'O', 'O', 'O', 'O', 'O', 'O', 'O', 'O', 'O', 'O']}\n"
     ]
    },
    {
     "data": {
      "application/vnd.jupyter.widget-view+json": {
       "model_id": "26aead4c74f841b0980959e657f086a1",
       "version_major": 2,
       "version_minor": 0
      },
      "text/plain": [
       "Saving the dataset (0/1 shards):   0%|          | 0/8634 [00:00<?, ? examples/s]"
      ]
     },
     "metadata": {},
     "output_type": "display_data"
    },
    {
     "name": "stdout",
     "output_type": "stream",
     "text": [
      "\n",
      " tsa-conll-intensity dev 1531\n",
      "{'idx': '202259-20-04', 'tokens': ['Utvendig', 'har', 'den', 'svært', 'forsiktig', 'styling', '.'], 'tsa_tags': ['B-targ-Negative-2', 'O', 'O', 'O', 'O', 'O', 'O']}\n"
     ]
    },
    {
     "data": {
      "application/vnd.jupyter.widget-view+json": {
       "model_id": "0269a37f8e7044d49c3c0c8636d7fba0",
       "version_major": 2,
       "version_minor": 0
      },
      "text/plain": [
       "Saving the dataset (0/1 shards):   0%|          | 0/8634 [00:00<?, ? examples/s]"
      ]
     },
     "metadata": {},
     "output_type": "display_data"
    },
    {
     "data": {
      "application/vnd.jupyter.widget-view+json": {
       "model_id": "c93642314757450585191b07afbf69b0",
       "version_major": 2,
       "version_minor": 0
      },
      "text/plain": [
       "Saving the dataset (0/1 shards):   0%|          | 0/1531 [00:00<?, ? examples/s]"
      ]
     },
     "metadata": {},
     "output_type": "display_data"
    },
    {
     "name": "stdout",
     "output_type": "stream",
     "text": [
      "\n",
      " tsa-conll-intensity test 1272\n",
      "{'idx': '000298-18-02', 'tokens': ['Det', 'er', 'også', 'interessant', 'å', 'se', 'en', 'serie', 'der', 'kvinnen', 'er', 'den', 'sterkeste', 'parten', 'uten', 'at', 'dette', 'plager', 'mannen', 'nevneverdig', '.'], 'tsa_tags': ['O', 'O', 'O', 'O', 'O', 'O', 'O', 'B-targ-Positive-2', 'O', 'O', 'O', 'O', 'O', 'O', 'O', 'O', 'O', 'O', 'O', 'O', 'O']}\n"
     ]
    },
    {
     "data": {
      "application/vnd.jupyter.widget-view+json": {
       "model_id": "d75e9a2dd1c344f8af69b49b2392f2f1",
       "version_major": 2,
       "version_minor": 0
      },
      "text/plain": [
       "Saving the dataset (0/1 shards):   0%|          | 0/8634 [00:00<?, ? examples/s]"
      ]
     },
     "metadata": {},
     "output_type": "display_data"
    },
    {
     "data": {
      "application/vnd.jupyter.widget-view+json": {
       "model_id": "aeefda69801e4bf89eed5e8ddbab73a1",
       "version_major": 2,
       "version_minor": 0
      },
      "text/plain": [
       "Saving the dataset (0/1 shards):   0%|          | 0/1531 [00:00<?, ? examples/s]"
      ]
     },
     "metadata": {},
     "output_type": "display_data"
    },
    {
     "data": {
      "application/vnd.jupyter.widget-view+json": {
       "model_id": "d18ffcc1e0c8478c9bb94c4276fe8466",
       "version_major": 2,
       "version_minor": 0
      },
      "text/plain": [
       "Saving the dataset (0/1 shards):   0%|          | 0/1272 [00:00<?, ? examples/s]"
      ]
     },
     "metadata": {},
     "output_type": "display_data"
    }
   ],
   "source": [
    "# Convert the TSA conll data to DatasetDict\n",
    "import pandas as pd\n",
    "import os\n",
    "from datasets import Dataset, DatasetDict\n",
    "from pathlib import Path\n",
    "\n",
    "\n",
    "def parse_conll(raw:str, sep=\"\\t\"):\n",
    "    \"\"\"Parses the norec-fine conll files with tab separator and sentence id\"\"\"\n",
    "    doc_parsed = [] # One dict per sentence. meta, tokens and tags\n",
    "    for sent in raw.strip().split(\"\\n\\n\"):\n",
    "        meta = \"\"\n",
    "        tokens, tags = [], []\n",
    "        for line in sent.split(\"\\n\"):\n",
    "            if line.startswith(\"#\") and \"=\" in line:\n",
    "                meta = line.split(\"=\")[-1]\n",
    "            else:\n",
    "                elems = line.strip().split(sep)\n",
    "                assert len(elems) == 2\n",
    "                tokens.append(elems[0])\n",
    "                tags.append(elems[1])\n",
    "        assert len(meta) > 0\n",
    "        doc_parsed.append({\"idx\": meta, \"tokens\":tokens, \"tsa_tags\":tags})\n",
    "    return doc_parsed\n",
    "\n",
    "\n",
    "conll_folders = [\"tsa_conll\", \n",
    "                \"tsa-conll-intensity\"\n",
    "                ] \n",
    "assert all( [\"conll\" in s for s in conll_folders]) # If you remove this, change rule for naming arrow folder.\n",
    "assert all([Path(s).is_dir() for s in conll_folders ]), \"Not all source folders exist\"\n",
    "\n",
    "splits = {\"train\": \"train\", \"dev\": \"validation\", \"test\": \"test\"} # \"validation\" for HF naming convention\n",
    "for c_folder in conll_folders:\n",
    "    arrow_folder = c_folder.replace(\"conll\", \"arrow\")\n",
    "    d_sets = {}\n",
    "    for split in splits:\n",
    "        conll_txt = Path(c_folder, split+\".conll\").read_text()\n",
    "        print(\"\\n\",c_folder, split, len(conll_txt.split(\"\\n\\n\")))\n",
    "        sents = parse_conll(conll_txt)\n",
    "        # for sent in sents:\n",
    "            # sent[\"labels\"] = [label_mapping[tag] for tag in sent[\"tsa_tags\"]]\n",
    "        d_sets[splits[split]] = Dataset.from_pandas(pd.DataFrame(sents))\n",
    "        print(d_sets[splits[split]][102])\n",
    "\n",
    "        DatasetDict(d_sets).save_to_disk(arrow_folder)\n"
   ]
  }
 ],
 "metadata": {
  "kernelspec": {
   "display_name": "phdev",
   "language": "python",
   "name": "python3"
  },
  "language_info": {
   "codemirror_mode": {
    "name": "ipython",
    "version": 3
   },
   "file_extension": ".py",
   "mimetype": "text/x-python",
   "name": "python",
   "nbconvert_exporter": "python",
   "pygments_lexer": "ipython3",
   "version": "3.9.7"
  },
  "orig_nbformat": 4
 },
 "nbformat": 4,
 "nbformat_minor": 2
}
